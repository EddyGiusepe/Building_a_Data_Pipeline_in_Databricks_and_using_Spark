{
 "cells": [
  {
   "cell_type": "markdown",
   "metadata": {},
   "source": [
    "# <h1 align=\"center\"><font color=\"gree\">Building a Data Pipeline in Databricks and using Spark</font></h1>\n",
    "---\n",
    "\n",
    "<font color=\"pink\">Senior Data Scientist.: Dr. Eddy Giusepe Chirinos Isidro</font>"
   ]
  },
  {
   "cell_type": "markdown",
   "metadata": {},
   "source": [
    "Link de estudo:\n",
    "\n",
    "* [Databricks Caderno de anotações](https://docs.databricks.com/aws/pt/notebooks/)"
   ]
  },
  {
   "cell_type": "markdown",
   "metadata": {},
   "source": [
    "# <font color=\"red\">🚀 Configuração do Databricks Connect</font>"
   ]
  },
  {
   "cell_type": "markdown",
   "metadata": {},
   "source": [
    "Este notebook está configurado para usar **Databricks Connect**, permitindo executar código localmente mas processando dados no `cluster Databricks`."
   ]
  },
  {
   "cell_type": "markdown",
   "metadata": {},
   "source": [
    "## <font color=\"blue\">🔐 Informações necessárias</font>"
   ]
  },
  {
   "cell_type": "markdown",
   "metadata": {},
   "source": [
    "1. `Server hostname`: URL do seu workspace Databricks\n",
    "2. `Personal Access Token`: Token de acesso (User Settings → Developer → Access Tokens)\n",
    "3. `Cluster ID`: ID do cluster ativo (copie da URL quando abrir um cluster)"
   ]
  },
  {
   "cell_type": "markdown",
   "metadata": {},
   "source": [
    "## <font color=\"blue\">Como configurar?</font>"
   ]
  },
  {
   "cell_type": "markdown",
   "metadata": {},
   "source": [
    "* `Opção A`: Você pode criar variáveis de ambiente:\n",
    "\n",
    "```bash\n",
    "export DATABRICKS_HOST=\"https://seu-workspace.cloud.databricks.com\"\n",
    "export DATABRICKS_TOKEN=\"dapi-seu-token-aqui\"  \n",
    "export DATABRICKS_CLUSTER_ID=\"cluster-id-aqui\"\n",
    "```\n",
    "\n",
    "* `Opção B`: Crie um arquivo `.env` na pasta do projeto:\n",
    "\n",
    "```bash\n",
    "DATABRICKS_HOST=https://seu-workspace.cloud.databricks.com\n",
    "DATABRICKS_TOKEN=dapi-seu-token-aqui\n",
    "DATABRICKS_CLUSTER_ID=cluster-id-aqui\n",
    "```\n",
    "\n",
    "**⚠️ IMPORTANTE**: Nunca faça commit de tokens/credenciais para Git!"
   ]
  },
  {
   "cell_type": "markdown",
   "metadata": {},
   "source": [
    "# <font color=\"red\">📋 COMO OBTER AS CREDENCIAIS DO DATABRICKS</font>"
   ]
  },
  {
   "cell_type": "markdown",
   "metadata": {},
   "source": [
    "## <font color=\"blue\">🔍 1. Server Hostname</font>"
   ]
  },
  {
   "cell_type": "markdown",
   "metadata": {},
   "source": [
    "- Va para seu workspace Databricks\n",
    "\n",
    "- Copie a URL do navegador (ex: `https://dbc-a1b2c3d4-e5f6.cloud.databricks.com`)\n",
    "\n",
    "\n",
    "Você pode copiar a partir do browser só ate `...com`."
   ]
  },
  {
   "cell_type": "markdown",
   "metadata": {},
   "source": [
    "## <font color=\"blue\">🔑 2. Personal Access Token</font>"
   ]
  },
  {
   "cell_type": "markdown",
   "metadata": {},
   "source": [
    "1. No Databricks workspace → clique no seu **avatar** (canto superior direito)\n",
    "\n",
    "2. **User Settings**\n",
    "\n",
    "3. **Developer** (no menu lateral)\n",
    "\n",
    "4. **Access Tokens**\n",
    "\n",
    "5. **Generate New Token**\n",
    "\n",
    "6. Dê um nome (ex: \"Local Development\")\n",
    "\n",
    "7. Defina expiração (recomendo 90 dias)\n",
    "\n",
    "8. **Generate** → copie o token (começa com `dapi-...`)"
   ]
  },
  {
   "cell_type": "markdown",
   "metadata": {},
   "source": [
    "## <font color=\"blue\">💻 3. Cluster ID</font>"
   ]
  },
  {
   "cell_type": "markdown",
   "metadata": {},
   "source": [
    "1. No Databricks workspace → **Compute** (menu lateral)\n",
    "\n",
    "2. Clique no cluster que deseja usar\n",
    "\n",
    "3. Copie o **Cluster ID** da URL ou das configurações do cluster\n",
    "\n",
    "\n",
    "`NOTA`:\n",
    "\n",
    "Eu só consegui obter o ID do meu Cluster executando o seguinte comando na própria célula do Databricks:\n",
    "\n",
    "```python\n",
    "databricks_cluster_id = spark.conf.get(\"spark.databricks.clusterUsageTags.clusterId\")\n",
    "\n",
    "print(f\"Databricks Cluster ID: {databricks_cluster_id}\")\n",
    "```"
   ]
  },
  {
   "cell_type": "markdown",
   "metadata": {},
   "source": [
    "# <font color=\"red\">ETL Pipeline com dados armazenados no meu Volume Databricks</font>"
   ]
  },
  {
   "cell_type": "code",
   "execution_count": 1,
   "metadata": {},
   "outputs": [
    {
     "name": "stdout",
     "output_type": "stream",
     "text": [
      "🔗 Carregado minhas credenciais do Databricks, com sucesso!\n"
     ]
    }
   ],
   "source": [
    "import os\n",
    "from dotenv import load_dotenv, find_dotenv\n",
    "\n",
    "\n",
    "_ = load_dotenv(find_dotenv())\n",
    "\n",
    "databricks_host = os.environ['DATABRICKS_HOST']\n",
    "databricks_token = os.environ['DATABRICKS_TOKEN']\n",
    "databricks_cluster_id = os.environ['DATABRICKS_CLUSTER_ID']\n",
    "\n",
    "print(\"🔗 Carregado minhas credenciais do Databricks, com sucesso!\")"
   ]
  },
  {
   "cell_type": "markdown",
   "metadata": {},
   "source": [
    "A seguir vamos usar `Databricks Connect` para conectar ao Databricks e executar código `Spark` localmente, mas processando os dados remotamente no cluster Databricks"
   ]
  },
  {
   "cell_type": "code",
   "execution_count": null,
   "metadata": {},
   "outputs": [
    {
     "name": "stdout",
     "output_type": "stream",
     "text": [
      "✅ Conectado ao Databricks com sucesso!\n",
      "🔧 Versão Spark: 4.0.0\n"
     ]
    }
   ],
   "source": [
    "from databricks.connect import DatabricksSession # Esta classe é usada para conectar ao Databricks remotamente\n",
    "\n",
    "spark = DatabricksSession.builder.remote(host=databricks_host, token=databricks_token, cluster_id=databricks_cluster_id).getOrCreate()\n",
    "\n",
    "\n",
    "print(\"✅ Conectado ao Databricks com sucesso!\")\n",
    "print(f\"🔧 Versão Spark: {spark.version}\")"
   ]
  },
  {
   "cell_type": "markdown",
   "metadata": {},
   "source": [
    "A seguir vamos carregar dados do `Volume Databricks`. Basicamente, vou carregar esses dados a partir do `Catalog` do meu workspace Databricks."
   ]
  },
  {
   "cell_type": "code",
   "execution_count": null,
   "metadata": {},
   "outputs": [],
   "source": [
    "volume_path = \"/Volumes/workspace/default_eddy/volumeeddy-tmp-sampledata/sample_data.csv\"\n",
    "print(f\"\\n📂 Carregando dados do Volume: {volume_path}\")\n",
    "\n",
    "df_spark = spark.read.csv(volume_path, header=True, inferSchema=True)"
   ]
  },
  {
   "cell_type": "code",
   "execution_count": null,
   "metadata": {},
   "outputs": [],
   "source": [
    "\n",
    "\n",
    "\n",
    "print(\"🎉 DADOS DO VOLUME CARREGADOS COM SUCESSO!\")\n",
    "print(\"\\n📊 Primeiros registros:\")\n",
    "df_spark.show()\n",
    "\n",
    "print(f\"\\n📈 Informações do Dataset:\")\n",
    "print(f\"   • Linhas: {df_spark.count()}\")\n",
    "print(f\"   • Colunas: {len(df_spark.columns)}\")\n",
    "print(f\"   • Nomes das Colunas: {df_spark.columns}\")\n",
    "\n",
    "print(\"\\n📋 Schema do Dataset:\")\n",
    "df_spark.printSchema()\n",
    "\n",
    "# Converter para Pandas para análises adicionais (opcional)\n",
    "df_pandas = df_spark.toPandas()\n",
    "print(f\"\\n✅ Dados também disponíveis como Pandas DataFrame para análises locais!\")\n"
   ]
  },
  {
   "cell_type": "code",
   "execution_count": null,
   "metadata": {},
   "outputs": [],
   "source": [
    "# 📊 ANÁLISE AVANÇADA DOS DADOS DO VOLUME DATABRICKS\n",
    "print(\"=\"*70)\n",
    "print(\"📊 ANÁLISE COMPLETA DOS DADOS DO VOLUME DATABRICKS\")\n",
    "print(\"=\"*70)\n",
    "\n",
    "# Estatísticas descritivas com Spark\n",
    "print(\"\\n📊 Estatísticas Descritivas (processadas no cluster Databricks):\")\n",
    "df_spark.describe().show()\n",
    "\n",
    "# Análises com Spark SQL\n",
    "print(\"\\n🔍 Análises com Spark SQL:\")\n",
    "\n",
    "# Registrar como view temporária para usar SQL\n",
    "df_spark.createOrReplaceTempView(\"pessoas\")\n",
    "\n",
    "# 1. Análise de idade\n",
    "print(\"\\n👥 Análise de Idade:\")\n",
    "idade_stats = spark.sql(\"\"\"\n",
    "    SELECT \n",
    "        AVG(Age) as idade_media,\n",
    "        MIN(Age) as idade_minima,\n",
    "        MAX(Age) as idade_maxima,\n",
    "        COUNT(*) as total_pessoas\n",
    "    FROM pessoas\n",
    "\"\"\")\n",
    "idade_stats.show()\n",
    "\n",
    "# 2. Maiores de idade\n",
    "print(\"\\n🔞 Pessoas maiores de idade:\")\n",
    "adults = spark.sql(\"SELECT * FROM pessoas WHERE Age >= 18\")\n",
    "adults.show()\n",
    "\n",
    "adult_count = adults.count()\n",
    "total_count = df_spark.count()\n",
    "print(f\"📈 {adult_count} de {total_count} pessoas são maiores de idade ({adult_count/total_count*100:.1f}%)\")\n",
    "\n",
    "# 3. Análise por cidade\n",
    "print(\"\\n🏙️ Contagem por Cidade:\")\n",
    "city_analysis = spark.sql(\"\"\"\n",
    "    SELECT City, COUNT(*) as quantidade\n",
    "    FROM pessoas \n",
    "    GROUP BY City \n",
    "    ORDER BY quantidade DESC\n",
    "\"\"\")\n",
    "city_analysis.show()\n",
    "\n",
    "# 4. Análises avançadas com Window Functions\n",
    "print(\"\\n📈 Análises Avançadas:\")\n",
    "advanced_analysis = spark.sql(\"\"\"\n",
    "    SELECT \n",
    "        Name,\n",
    "        Age,\n",
    "        City,\n",
    "        CASE \n",
    "            WHEN Age >= 18 THEN 'Adulto'\n",
    "            ELSE 'Menor de idade'\n",
    "        END as categoria_idade,\n",
    "        ROW_NUMBER() OVER (PARTITION BY City ORDER BY Age DESC) as ranking_idade_cidade\n",
    "    FROM pessoas\n",
    "    ORDER BY City, Age DESC\n",
    "\"\"\")\n",
    "advanced_analysis.show()\n",
    "\n",
    "# Converter para Pandas para análises complementares\n",
    "print(\"\\n🐼 Análises complementares com Pandas:\")\n",
    "df_pandas = df_spark.toPandas()\n",
    "print(f\"   • Dataset convertido: {df_pandas.shape[0]} linhas, {df_pandas.shape[1]} colunas\")\n",
    "print(f\"   • Idade média: {df_pandas['Age'].mean():.2f} anos\")\n",
    "print(f\"   • Cidades únicas: {df_pandas['City'].nunique()}\")\n",
    "\n",
    "print(\"\\n✅ Pipeline ETL com Databricks Volume concluído com sucesso!\")\n",
    "print(\"   • 🌩️ Processamento: Cluster Databricks\")\n",
    "print(\"   • 📁 Fonte: Volume Databricks\")\n",
    "print(f\"   • 📊 Registros: {df_spark.count()}\")\n",
    "print(f\"   • 🚀 Engine: Spark {spark.version}\")\n",
    "print(\"   • 💾 Disponível em: Spark DataFrame + Pandas DataFrame\")\n"
   ]
  },
  {
   "cell_type": "code",
   "execution_count": null,
   "metadata": {},
   "outputs": [],
   "source": []
  }
 ],
 "metadata": {
  "application/vnd.databricks.v1+notebook": {
   "computePreferences": null,
   "dashboards": [],
   "environmentMetadata": {
    "base_environment": "",
    "environment_version": "3"
   },
   "inputWidgetPreferences": null,
   "language": "python",
   "notebookMetadata": {
    "pythonIndentUnit": 4
   },
   "notebookName": "pipeline_ETL",
   "widgets": {}
  },
  "kernelspec": {
   "display_name": ".venv",
   "language": "python",
   "name": "python3"
  },
  "language_info": {
   "codemirror_mode": {
    "name": "ipython",
    "version": 3
   },
   "file_extension": ".py",
   "mimetype": "text/x-python",
   "name": "python",
   "nbconvert_exporter": "python",
   "pygments_lexer": "ipython3",
   "version": "3.13.3"
  }
 },
 "nbformat": 4,
 "nbformat_minor": 0
}
